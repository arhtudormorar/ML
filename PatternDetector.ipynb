{
  "nbformat": 4,
  "nbformat_minor": 0,
  "metadata": {
    "colab": {
      "provenance": [],
      "authorship_tag": "ABX9TyO4wYoGo1b7wgex5irL9dc6",
      "include_colab_link": true
    },
    "kernelspec": {
      "name": "python3",
      "display_name": "Python 3"
    },
    "language_info": {
      "name": "python"
    }
  },
  "cells": [
    {
      "cell_type": "markdown",
      "metadata": {
        "id": "view-in-github",
        "colab_type": "text"
      },
      "source": [
        "<a href=\"https://colab.research.google.com/github/arhtudormorar/ML/blob/main/PatternDetector.ipynb\" target=\"_parent\"><img src=\"https://colab.research.google.com/assets/colab-badge.svg\" alt=\"Open In Colab\"/></a>"
      ]
    },
    {
      "cell_type": "code",
      "execution_count": 9,
      "metadata": {
        "colab": {
          "base_uri": "https://localhost:8080/"
        },
        "id": "uPjDvNY6QXKO",
        "outputId": "3360e58c-3989-444a-a09a-f1a6ee7ff141"
      },
      "outputs": [
        {
          "output_type": "stream",
          "name": "stdout",
          "text": [
            "Pattern (1, 2) occurs 4 times at positions [0, 4, 6, 11]\n",
            "Pattern (2, 3) occurs 3 times at positions [1, 7, 12]\n",
            "Pattern (3, 4) occurs 2 times at positions [2, 8]\n",
            "Pattern (1, 2, 3) occurs 3 times at positions [0, 6, 11]\n",
            "Pattern (2, 3, 4) occurs 2 times at positions [1, 7]\n",
            "Pattern (1, 2, 3, 4) occurs 2 times at positions [0, 6]\n"
          ]
        }
      ],
      "source": [
        "from sklearn.cluster import DBSCAN\n",
        "from sklearn.preprocessing import StandardScaler\n",
        "\n",
        "def find_repeated_patterns_ml(arr, min_length=2, min_samples=2, eps=0.5):\n",
        "    patterns = {}\n",
        "    n = len(arr)\n",
        "\n",
        "    for length in range(min_length, n//2 + 1):\n",
        "        X = []\n",
        "        for i in range(n - length + 1):\n",
        "            X.append(arr[i:i+length])\n",
        "\n",
        "        scaler = StandardScaler()\n",
        "        X_scaled = scaler.fit_transform(X)\n",
        "\n",
        "        dbscan = DBSCAN(eps=eps, min_samples=min_samples)\n",
        "        dbscan.fit(X_scaled)\n",
        "\n",
        "        labels = dbscan.labels_\n",
        "        unique_labels = set(labels)\n",
        "\n",
        "        for label in unique_labels:\n",
        "            if label != -1:  # Ignore noise points\n",
        "                pattern_indices = [i for i, l in enumerate(labels) if l == label]\n",
        "                pattern = tuple(arr[pattern_indices[0]:pattern_indices[0]+length])\n",
        "                patterns[pattern] = [i for i in pattern_indices]\n",
        "\n",
        "    return patterns\n",
        "\n",
        "# Example usage\n",
        "input_array = [1, 2, 3, 4, 1, 2, 1, 2, 3.1, 4, 5, 1, 2, 3]\n",
        "\n",
        "repeated_patterns_ml = find_repeated_patterns_ml(input_array, min_length=2, min_samples=2, eps=0.5)\n",
        "\n",
        "for pattern, occurrences in repeated_patterns_ml.items():\n",
        "    print(f\"Pattern {pattern} occurs {len(occurrences)} times at positions {occurrences}\")"
      ]
    }
  ]
}